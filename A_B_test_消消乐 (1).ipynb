{
  "nbformat": 4,
  "nbformat_minor": 0,
  "metadata": {
    "colab": {
      "name": "A/B test 消消乐.ipynb",
      "provenance": [],
      "collapsed_sections": []
    },
    "kernelspec": {
      "name": "python3",
      "display_name": "Python 3"
    },
    "language_info": {
      "name": "python"
    }
  },
  "cells": [
    {
      "cell_type": "code",
      "execution_count": null,
      "metadata": {
        "id": "4SAejSQSbFfe",
        "colab": {
          "base_uri": "https://localhost:8080/"
        },
        "outputId": "f363613a-d432-4749-cb16-35726004ba91"
      },
      "outputs": [
        {
          "output_type": "stream",
          "name": "stdout",
          "text": [
            "Cloning into '-'...\n",
            "remote: Enumerating objects: 12, done.\u001b[K\n",
            "remote: Counting objects: 100% (12/12), done.\u001b[K\n",
            "remote: Compressing objects: 100% (12/12), done.\u001b[K\n",
            "remote: Total 12 (delta 2), reused 0 (delta 0), pack-reused 0\u001b[K\n",
            "Unpacking objects: 100% (12/12), done.\n"
          ]
        }
      ],
      "source": [
        "!git clone https://github.com/sitdownman/-.git"
      ]
    },
    {
      "cell_type": "markdown",
      "source": [
        "# 加载数据"
      ],
      "metadata": {
        "id": "yQ0HV9Lt5NOP"
      }
    },
    {
      "cell_type": "code",
      "source": [
        "\n",
        "import pandas as pd\n",
        "import matplotlib.pyplot as plt\n",
        "\n",
        "\n",
        "df = pd.read_csv(r\"/content/-/cookie_cats.csv\")\n",
        "\n",
        "\n",
        "df.head()"
      ],
      "metadata": {
        "colab": {
          "base_uri": "https://localhost:8080/",
          "height": 206
        },
        "id": "UsExrHaKcFkJ",
        "outputId": "f4c9c0c8-ad3b-434b-acd3-440ff5fd60e3"
      },
      "execution_count": null,
      "outputs": [
        {
          "output_type": "execute_result",
          "data": {
            "text/html": [
              "\n",
              "  <div id=\"df-03cfecec-9f64-412f-ac8f-51d928f6399a\">\n",
              "    <div class=\"colab-df-container\">\n",
              "      <div>\n",
              "<style scoped>\n",
              "    .dataframe tbody tr th:only-of-type {\n",
              "        vertical-align: middle;\n",
              "    }\n",
              "\n",
              "    .dataframe tbody tr th {\n",
              "        vertical-align: top;\n",
              "    }\n",
              "\n",
              "    .dataframe thead th {\n",
              "        text-align: right;\n",
              "    }\n",
              "</style>\n",
              "<table border=\"1\" class=\"dataframe\">\n",
              "  <thead>\n",
              "    <tr style=\"text-align: right;\">\n",
              "      <th></th>\n",
              "      <th>userid</th>\n",
              "      <th>version</th>\n",
              "      <th>sum_gamerounds</th>\n",
              "      <th>retention_1</th>\n",
              "      <th>retention_7</th>\n",
              "    </tr>\n",
              "  </thead>\n",
              "  <tbody>\n",
              "    <tr>\n",
              "      <th>0</th>\n",
              "      <td>116</td>\n",
              "      <td>gate_30</td>\n",
              "      <td>3</td>\n",
              "      <td>False</td>\n",
              "      <td>False</td>\n",
              "    </tr>\n",
              "    <tr>\n",
              "      <th>1</th>\n",
              "      <td>337</td>\n",
              "      <td>gate_30</td>\n",
              "      <td>38</td>\n",
              "      <td>True</td>\n",
              "      <td>False</td>\n",
              "    </tr>\n",
              "    <tr>\n",
              "      <th>2</th>\n",
              "      <td>377</td>\n",
              "      <td>gate_40</td>\n",
              "      <td>165</td>\n",
              "      <td>True</td>\n",
              "      <td>False</td>\n",
              "    </tr>\n",
              "    <tr>\n",
              "      <th>3</th>\n",
              "      <td>483</td>\n",
              "      <td>gate_40</td>\n",
              "      <td>1</td>\n",
              "      <td>False</td>\n",
              "      <td>False</td>\n",
              "    </tr>\n",
              "    <tr>\n",
              "      <th>4</th>\n",
              "      <td>488</td>\n",
              "      <td>gate_40</td>\n",
              "      <td>179</td>\n",
              "      <td>True</td>\n",
              "      <td>True</td>\n",
              "    </tr>\n",
              "  </tbody>\n",
              "</table>\n",
              "</div>\n",
              "      <button class=\"colab-df-convert\" onclick=\"convertToInteractive('df-03cfecec-9f64-412f-ac8f-51d928f6399a')\"\n",
              "              title=\"Convert this dataframe to an interactive table.\"\n",
              "              style=\"display:none;\">\n",
              "        \n",
              "  <svg xmlns=\"http://www.w3.org/2000/svg\" height=\"24px\"viewBox=\"0 0 24 24\"\n",
              "       width=\"24px\">\n",
              "    <path d=\"M0 0h24v24H0V0z\" fill=\"none\"/>\n",
              "    <path d=\"M18.56 5.44l.94 2.06.94-2.06 2.06-.94-2.06-.94-.94-2.06-.94 2.06-2.06.94zm-11 1L8.5 8.5l.94-2.06 2.06-.94-2.06-.94L8.5 2.5l-.94 2.06-2.06.94zm10 10l.94 2.06.94-2.06 2.06-.94-2.06-.94-.94-2.06-.94 2.06-2.06.94z\"/><path d=\"M17.41 7.96l-1.37-1.37c-.4-.4-.92-.59-1.43-.59-.52 0-1.04.2-1.43.59L10.3 9.45l-7.72 7.72c-.78.78-.78 2.05 0 2.83L4 21.41c.39.39.9.59 1.41.59.51 0 1.02-.2 1.41-.59l7.78-7.78 2.81-2.81c.8-.78.8-2.07 0-2.86zM5.41 20L4 18.59l7.72-7.72 1.47 1.35L5.41 20z\"/>\n",
              "  </svg>\n",
              "      </button>\n",
              "      \n",
              "  <style>\n",
              "    .colab-df-container {\n",
              "      display:flex;\n",
              "      flex-wrap:wrap;\n",
              "      gap: 12px;\n",
              "    }\n",
              "\n",
              "    .colab-df-convert {\n",
              "      background-color: #E8F0FE;\n",
              "      border: none;\n",
              "      border-radius: 50%;\n",
              "      cursor: pointer;\n",
              "      display: none;\n",
              "      fill: #1967D2;\n",
              "      height: 32px;\n",
              "      padding: 0 0 0 0;\n",
              "      width: 32px;\n",
              "    }\n",
              "\n",
              "    .colab-df-convert:hover {\n",
              "      background-color: #E2EBFA;\n",
              "      box-shadow: 0px 1px 2px rgba(60, 64, 67, 0.3), 0px 1px 3px 1px rgba(60, 64, 67, 0.15);\n",
              "      fill: #174EA6;\n",
              "    }\n",
              "\n",
              "    [theme=dark] .colab-df-convert {\n",
              "      background-color: #3B4455;\n",
              "      fill: #D2E3FC;\n",
              "    }\n",
              "\n",
              "    [theme=dark] .colab-df-convert:hover {\n",
              "      background-color: #434B5C;\n",
              "      box-shadow: 0px 1px 3px 1px rgba(0, 0, 0, 0.15);\n",
              "      filter: drop-shadow(0px 1px 2px rgba(0, 0, 0, 0.3));\n",
              "      fill: #FFFFFF;\n",
              "    }\n",
              "  </style>\n",
              "\n",
              "      <script>\n",
              "        const buttonEl =\n",
              "          document.querySelector('#df-03cfecec-9f64-412f-ac8f-51d928f6399a button.colab-df-convert');\n",
              "        buttonEl.style.display =\n",
              "          google.colab.kernel.accessAllowed ? 'block' : 'none';\n",
              "\n",
              "        async function convertToInteractive(key) {\n",
              "          const element = document.querySelector('#df-03cfecec-9f64-412f-ac8f-51d928f6399a');\n",
              "          const dataTable =\n",
              "            await google.colab.kernel.invokeFunction('convertToInteractive',\n",
              "                                                     [key], {});\n",
              "          if (!dataTable) return;\n",
              "\n",
              "          const docLinkHtml = 'Like what you see? Visit the ' +\n",
              "            '<a target=\"_blank\" href=https://colab.research.google.com/notebooks/data_table.ipynb>data table notebook</a>'\n",
              "            + ' to learn more about interactive tables.';\n",
              "          element.innerHTML = '';\n",
              "          dataTable['output_type'] = 'display_data';\n",
              "          await google.colab.output.renderOutput(dataTable, element);\n",
              "          const docLink = document.createElement('div');\n",
              "          docLink.innerHTML = docLinkHtml;\n",
              "          element.appendChild(docLink);\n",
              "        }\n",
              "      </script>\n",
              "    </div>\n",
              "  </div>\n",
              "  "
            ],
            "text/plain": [
              "   userid  version  sum_gamerounds  retention_1  retention_7\n",
              "0     116  gate_30               3        False        False\n",
              "1     337  gate_30              38         True        False\n",
              "2     377  gate_40             165         True        False\n",
              "3     483  gate_40               1        False        False\n",
              "4     488  gate_40             179         True         True"
            ]
          },
          "metadata": {},
          "execution_count": 2
        }
      ]
    },
    {
      "cell_type": "markdown",
      "source": [
        "# 描述数据"
      ],
      "metadata": {
        "id": "N9cSM9qw5SoN"
      }
    },
    {
      "cell_type": "code",
      "source": [
        "df[\"userid\"].nunique()"
      ],
      "metadata": {
        "id": "UZ-xnqWP5R_t",
        "colab": {
          "base_uri": "https://localhost:8080/"
        },
        "outputId": "5cba2105-3fb2-423e-a741-97865cad6551"
      },
      "execution_count": null,
      "outputs": [
        {
          "output_type": "execute_result",
          "data": {
            "text/plain": [
              "90189"
            ]
          },
          "metadata": {},
          "execution_count": 3
        }
      ]
    },
    {
      "cell_type": "code",
      "source": [
        "df.groupby(\"version\")[[\"userid\"]].nunique()"
      ],
      "metadata": {
        "colab": {
          "base_uri": "https://localhost:8080/",
          "height": 143
        },
        "id": "BmhN8WpyO2oF",
        "outputId": "76be4f40-6468-4c9a-cf09-6d22b66bc5ce"
      },
      "execution_count": null,
      "outputs": [
        {
          "output_type": "execute_result",
          "data": {
            "text/html": [
              "\n",
              "  <div id=\"df-3072e3b5-f14b-46e1-86d7-fec490c12ad3\">\n",
              "    <div class=\"colab-df-container\">\n",
              "      <div>\n",
              "<style scoped>\n",
              "    .dataframe tbody tr th:only-of-type {\n",
              "        vertical-align: middle;\n",
              "    }\n",
              "\n",
              "    .dataframe tbody tr th {\n",
              "        vertical-align: top;\n",
              "    }\n",
              "\n",
              "    .dataframe thead th {\n",
              "        text-align: right;\n",
              "    }\n",
              "</style>\n",
              "<table border=\"1\" class=\"dataframe\">\n",
              "  <thead>\n",
              "    <tr style=\"text-align: right;\">\n",
              "      <th></th>\n",
              "      <th>userid</th>\n",
              "    </tr>\n",
              "    <tr>\n",
              "      <th>version</th>\n",
              "      <th></th>\n",
              "    </tr>\n",
              "  </thead>\n",
              "  <tbody>\n",
              "    <tr>\n",
              "      <th>gate_30</th>\n",
              "      <td>44700</td>\n",
              "    </tr>\n",
              "    <tr>\n",
              "      <th>gate_40</th>\n",
              "      <td>45489</td>\n",
              "    </tr>\n",
              "  </tbody>\n",
              "</table>\n",
              "</div>\n",
              "      <button class=\"colab-df-convert\" onclick=\"convertToInteractive('df-3072e3b5-f14b-46e1-86d7-fec490c12ad3')\"\n",
              "              title=\"Convert this dataframe to an interactive table.\"\n",
              "              style=\"display:none;\">\n",
              "        \n",
              "  <svg xmlns=\"http://www.w3.org/2000/svg\" height=\"24px\"viewBox=\"0 0 24 24\"\n",
              "       width=\"24px\">\n",
              "    <path d=\"M0 0h24v24H0V0z\" fill=\"none\"/>\n",
              "    <path d=\"M18.56 5.44l.94 2.06.94-2.06 2.06-.94-2.06-.94-.94-2.06-.94 2.06-2.06.94zm-11 1L8.5 8.5l.94-2.06 2.06-.94-2.06-.94L8.5 2.5l-.94 2.06-2.06.94zm10 10l.94 2.06.94-2.06 2.06-.94-2.06-.94-.94-2.06-.94 2.06-2.06.94z\"/><path d=\"M17.41 7.96l-1.37-1.37c-.4-.4-.92-.59-1.43-.59-.52 0-1.04.2-1.43.59L10.3 9.45l-7.72 7.72c-.78.78-.78 2.05 0 2.83L4 21.41c.39.39.9.59 1.41.59.51 0 1.02-.2 1.41-.59l7.78-7.78 2.81-2.81c.8-.78.8-2.07 0-2.86zM5.41 20L4 18.59l7.72-7.72 1.47 1.35L5.41 20z\"/>\n",
              "  </svg>\n",
              "      </button>\n",
              "      \n",
              "  <style>\n",
              "    .colab-df-container {\n",
              "      display:flex;\n",
              "      flex-wrap:wrap;\n",
              "      gap: 12px;\n",
              "    }\n",
              "\n",
              "    .colab-df-convert {\n",
              "      background-color: #E8F0FE;\n",
              "      border: none;\n",
              "      border-radius: 50%;\n",
              "      cursor: pointer;\n",
              "      display: none;\n",
              "      fill: #1967D2;\n",
              "      height: 32px;\n",
              "      padding: 0 0 0 0;\n",
              "      width: 32px;\n",
              "    }\n",
              "\n",
              "    .colab-df-convert:hover {\n",
              "      background-color: #E2EBFA;\n",
              "      box-shadow: 0px 1px 2px rgba(60, 64, 67, 0.3), 0px 1px 3px 1px rgba(60, 64, 67, 0.15);\n",
              "      fill: #174EA6;\n",
              "    }\n",
              "\n",
              "    [theme=dark] .colab-df-convert {\n",
              "      background-color: #3B4455;\n",
              "      fill: #D2E3FC;\n",
              "    }\n",
              "\n",
              "    [theme=dark] .colab-df-convert:hover {\n",
              "      background-color: #434B5C;\n",
              "      box-shadow: 0px 1px 3px 1px rgba(0, 0, 0, 0.15);\n",
              "      filter: drop-shadow(0px 1px 2px rgba(0, 0, 0, 0.3));\n",
              "      fill: #FFFFFF;\n",
              "    }\n",
              "  </style>\n",
              "\n",
              "      <script>\n",
              "        const buttonEl =\n",
              "          document.querySelector('#df-3072e3b5-f14b-46e1-86d7-fec490c12ad3 button.colab-df-convert');\n",
              "        buttonEl.style.display =\n",
              "          google.colab.kernel.accessAllowed ? 'block' : 'none';\n",
              "\n",
              "        async function convertToInteractive(key) {\n",
              "          const element = document.querySelector('#df-3072e3b5-f14b-46e1-86d7-fec490c12ad3');\n",
              "          const dataTable =\n",
              "            await google.colab.kernel.invokeFunction('convertToInteractive',\n",
              "                                                     [key], {});\n",
              "          if (!dataTable) return;\n",
              "\n",
              "          const docLinkHtml = 'Like what you see? Visit the ' +\n",
              "            '<a target=\"_blank\" href=https://colab.research.google.com/notebooks/data_table.ipynb>data table notebook</a>'\n",
              "            + ' to learn more about interactive tables.';\n",
              "          element.innerHTML = '';\n",
              "          dataTable['output_type'] = 'display_data';\n",
              "          await google.colab.output.renderOutput(dataTable, element);\n",
              "          const docLink = document.createElement('div');\n",
              "          docLink.innerHTML = docLinkHtml;\n",
              "          element.appendChild(docLink);\n",
              "        }\n",
              "      </script>\n",
              "    </div>\n",
              "  </div>\n",
              "  "
            ],
            "text/plain": [
              "         userid\n",
              "version        \n",
              "gate_30   44700\n",
              "gate_40   45489"
            ]
          },
          "metadata": {},
          "execution_count": 4
        }
      ]
    },
    {
      "cell_type": "code",
      "source": [
        "# 游戏场次分布\n",
        "plot_df = df.groupby(\"sum_gamerounds\")[\"userid\"].count()\n",
        "print(plot_df)\n",
        "# 查看游戏场次在0-100的人数分布情况\n",
        "ax = plot_df.head(100).plot()\n",
        "plt.title(\"The distribution of players\", fontweight=\"bold\", size=14)\n",
        "plt.xlabel(\"total gamerounds\", size=12)\n",
        "plt.ylabel(\"number of player\", size=12)\n",
        "plt.show()\n",
        "#有将近4000人下载游戏但一局没玩"
      ],
      "metadata": {
        "colab": {
          "base_uri": "https://localhost:8080/",
          "height": 525
        },
        "id": "sjdzODBoO2qq",
        "outputId": "816453cd-ede6-4b3b-977c-a0bb0972aa0e"
      },
      "execution_count": null,
      "outputs": [
        {
          "output_type": "stream",
          "name": "stdout",
          "text": [
            "sum_gamerounds\n",
            "0        3994\n",
            "1        5538\n",
            "2        4606\n",
            "3        3958\n",
            "4        3629\n",
            "         ... \n",
            "2294        1\n",
            "2438        1\n",
            "2640        1\n",
            "2961        1\n",
            "49854       1\n",
            "Name: userid, Length: 942, dtype: int64\n"
          ]
        },
        {
          "output_type": "display_data",
          "data": {
            "image/png": "[encoded data removed]",
            "text/plain": [
              "<Figure size 432x288 with 1 Axes>"
            ]
          },
          "metadata": {
            "needs_background": "light"
          }
        }
      ]
    },
    {
      "cell_type": "code",
      "source": [
        "# 统计对照组和实验组一日留存和七日留存\n",
        "df_retention_mean = df.groupby(\"version\").agg({\"userid\":\"count\", \"retention_1\":\"mean\",\"retention_7\":\"mean\", \"sum_gamerounds\":\"sum\"})\n",
        "print(df_retention_mean)\n",
        "df_retention_std = df.groupby(\"version\").agg({ \"retention_1\":\"std\",\"retention_7\":\"std\"})\n",
        "print(df_retention_std)"
      ],
      "metadata": {
        "colab": {
          "base_uri": "https://localhost:8080/"
        },
        "id": "HfA6op0nPiYT",
        "outputId": "fbc977e6-8bf5-4f07-c687-06f961c3edef"
      },
      "execution_count": null,
      "outputs": [
        {
          "output_type": "stream",
          "name": "stdout",
          "text": [
            "         userid  retention_1  retention_7  sum_gamerounds\n",
            "version                                                  \n",
            "gate_30   44700     0.448188     0.190201         2344795\n",
            "gate_40   45489     0.442283     0.182000         2333530\n",
            "         retention_1  retention_7\n",
            "version                          \n",
            "gate_30     0.497314     0.392464\n",
            "gate_40     0.496663     0.385849\n"
          ]
        }
      ]
    },
    {
      "cell_type": "markdown",
      "source": [
        "# 假设检验"
      ],
      "metadata": {
        "id": "r1ReTHSs-rLq"
      }
    },
    {
      "cell_type": "markdown",
      "source": [
        "发现解锁关卡设在30关的留存率比在40关的高，是否存在随机因素导致如此，按A/B测试显著性检验进行计算：\n",
        "\n",
        "原假设：解锁关卡设置在30关的次日留存率不高于设置在40关的次日留存率\n",
        "\n",
        "备择假设：解锁关卡设置在30关的次日留存率高于设置在40关的次日留存率\n",
        "\n",
        "右侧检验，设立显著性水平：α = 0.05​​"
      ],
      "metadata": {
        "id": "Sk6xtHnE-zQA"
      }
    },
    {
      "cell_type": "markdown",
      "source": [
        "根据公式计算Z值![Z值计算公式.jpeg](data:image/jpeg;base64,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) 一日留存：Z= -1.7840 查表得 拒绝阈值为-1.64 因为Z小于阈值所以拒绝原假设。结论：解锁关卡设置在30关的次日留存率高于设置在40关的次日留存率 ；七日留存：Z=-3.1640 查表得 拒绝阈值为-1.64 因为Z小于阈值所以拒绝原假设。结论：解锁关卡设置在30关的七日留存率高于设置在40关的七日留存率。"
      ],
      "metadata": {
        "id": "lxTRtbzVMwL-"
      }
    },
    {
      "cell_type": "markdown",
      "source": [
        "由以上分析，若要提升次日留存率和七日留存率，将解锁关卡设置在30关好于40关。但根据“40-20-10”的留存率规则，无论设置在30关还是40关，次日留存率均大于40%达到优秀水准，七日留存率均未小于20%未达到优秀水准，可以再结合其他因素如：游戏难度，游戏画面等，来进行内容优化来提升留存率。"
      ],
      "metadata": {
        "id": "MjK_2oNcfdGp"
      }
    },
    {
      "cell_type": "markdown",
      "source": [
        "# 求置信区间"
      ],
      "metadata": {
        "id": "kMm_1947P9ol"
      }
    },
    {
      "cell_type": "code",
      "source": [
        "import numpy as np\n",
        "import scipy.stats as st"
      ],
      "metadata": {
        "id": "c8iGmwVlm1xL"
      },
      "execution_count": null,
      "outputs": []
    },
    {
      "cell_type": "code",
      "source": [
        "# 定义求P值函数，使其能够与显著性水平比较。\n",
        "def get_pvalue(con_conv, test_conv, con_size, test_size):  \n",
        "    lift =  - abs(test_conv - con_conv)\n",
        "\n",
        "    scale_one = con_conv * (1 - con_conv) * (1 / con_size)\n",
        "    scale_two = test_conv * (1 - test_conv) * (1 / test_size)\n",
        "    scale_val = (scale_one + scale_two)**0.5\n",
        "\n",
        "    p_value = 2 * st.norm.cdf(lift, loc = 0, scale = scale_val )\n",
        "\n",
        "    return p_value"
      ],
      "metadata": {
        "id": "gakfK91_goi1"
      },
      "execution_count": null,
      "outputs": []
    },
    {
      "cell_type": "code",
      "source": [
        "# 定义求置信区间函数\n",
        "def get_ci(value, cl, sd):\n",
        "  loc = st.norm.ppf(1 - cl/2)\n",
        "  rng_val = st.norm.cdf(loc - value/sd)\n",
        "\n",
        "  lwr_bnd = value - rng_val\n",
        "  upr_bnd = value + rng_val \n",
        "\n",
        "  return_val = (lwr_bnd, upr_bnd)\n",
        "  return(return_val)"
      ],
      "metadata": {
        "id": "VA4iNOhOqUtD"
      },
      "execution_count": null,
      "outputs": []
    },
    {
      "cell_type": "code",
      "source": [
        "# 新方案40关卡 一日留存的P值\n",
        "p_value_1 = get_pvalue(con_conv=0.448188, test_conv=0.442283, con_size=44700, test_size=45489\t)\n",
        "\n",
        "# 一日留存的置信区间\n",
        "ci_1 = get_ci(0.442283,0.95,0.496663 )\n",
        "\n",
        "print('把新方案应用到全体用户有百分之95的概率落在区间')\n",
        "print(ci_1)"
      ],
      "metadata": {
        "colab": {
          "base_uri": "https://localhost:8080/"
        },
        "id": "n2HlU9m7h3WL",
        "outputId": "53f13c07-371b-4b4a-9a56-5219997317f4"
      },
      "execution_count": null,
      "outputs": [
        {
          "output_type": "stream",
          "name": "stdout",
          "text": [
            "把新方案应用到全体用户有百分之95的概率落在区间\n",
            "(0.23839181524984054, 0.6461741847501594)\n"
          ]
        }
      ]
    },
    {
      "cell_type": "code",
      "source": [
        "# 新方案40关卡 七日留存的P值\n",
        "p_value_7 = get_pvalue(con_conv=0.190201, test_conv=0.182000, con_size=44700, test_size=45489)\n",
        "\n",
        "# 七日留存的置信区间\n",
        "ci_7 = get_ci(0.182000,0.95,0.385849 )\n",
        "\n",
        "print('新方案的P值为 , 把新方案应用到全体用户有百分之95的概率落在区间')\n",
        "print(ci_7)\n",
        "# 新方案比原方案转化率低很多，其实没有验证的必要。"
      ],
      "metadata": {
        "colab": {
          "base_uri": "https://localhost:8080/"
        },
        "id": "rhhXxjDCxeP5",
        "outputId": "23b0a190-02e7-44b4-d09f-d46408f3c00c"
      },
      "execution_count": null,
      "outputs": [
        {
          "output_type": "stream",
          "name": "stdout",
          "text": [
            "新方案的P值为 , 把新方案应用到全体用户有百分之95的概率落在区间\n",
            "(-0.15927704711951912, 0.5232770471195192)\n"
          ]
        }
      ]
    }
  ]
}